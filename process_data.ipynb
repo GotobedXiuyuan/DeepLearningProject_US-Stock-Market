{
 "cells": [
  {
   "cell_type": "code",
   "execution_count": 4,
   "id": "675f649b",
   "metadata": {},
   "outputs": [
    {
     "name": "stdout",
     "output_type": "stream",
     "text": [
      "         Date    Price     Open     High      Low  FederalFundsRate  \\\n",
      "0  2019-05-15  2850.96  2820.38  2858.68  2815.08          2.378406   \n",
      "1  2019-05-14  2834.41  2820.12  2852.54  2820.12          2.389895   \n",
      "2  2019-05-13  2811.87  2840.19  2840.19  2801.43          2.393938   \n",
      "3  2019-05-10  2881.40  2863.10  2891.31  2825.39          2.400918   \n",
      "4  2019-05-09  2870.72  2859.84  2875.97  2836.40          2.401057   \n",
      "\n",
      "   InflationRate           GDP          Debt  UnemploymentRate  \n",
      "0     254.028156  21635.520175  2.192903e+07          3.314616  \n",
      "1     255.170190  21387.097968  2.194828e+07          3.284601  \n",
      "2     255.023199  21816.185662  2.219149e+07          3.310763  \n",
      "3     252.898622  21409.192287  2.215984e+07          3.300068  \n",
      "4     253.973934  21459.716577  2.202540e+07          3.306936  \n"
     ]
    }
   ],
   "source": [
    "import pandas as pd\n",
    "import numpy as np\n",
    "\n",
    "data = pd.read_csv('final_combined_sp500.csv')\n",
    "numerical_columns = ['Price', 'Open', 'High', 'Low', 'FederalFundsRate', 'InflationRate', 'GDP', 'Debt', 'UnemploymentRate']\n",
    "data[numerical_columns] = data[numerical_columns].replace(',', '', regex=True).astype(float)\n",
    "\n",
    "def add_variation_to_data(group_of_values, std_set):\n",
    "    mean_val_of_month_or_quater = group_of_values.mean()\n",
    "    return group_of_values + np.random.normal(scale=std_set * mean_val_of_month_or_quater, size=len(group_of_values))\n",
    "    \n",
    "\n",
    "data['FederalFundsRate'] = data.groupby(data['Date'].str[:7])['FederalFundsRate'].transform(lambda x: add_variation_to_data(x, 0.005))\n",
    "data['InflationRate'] = data.groupby(data['Date'].str[:7])['InflationRate'].transform(lambda x: add_variation_to_data(x, 0.005))\n",
    "data['UnemploymentRate'] = data.groupby(pd.PeriodIndex(data['Date'], freq='Q'))['UnemploymentRate'].transform(lambda x: add_variation_to_data(x, 0.005))\n",
    "data['GDP'] = data.groupby(pd.PeriodIndex(data['Date'], freq='Q'))['GDP'].transform(lambda x: add_variation_to_data(x, 0.01))\n",
    "data['Debt'] = data.groupby(pd.PeriodIndex(data['Date'], freq='Q'))['Debt'].transform(lambda x: add_variation_to_data(x, 0.01))\n",
    "\n",
    "\n",
    "print(data.head())"
   ]
  },
  {
   "cell_type": "code",
   "execution_count": 6,
   "id": "6787dbe9",
   "metadata": {},
   "outputs": [],
   "source": [
    "data.to_csv('processed_data.csv', index=False)"
   ]
  },
  {
   "cell_type": "code",
   "execution_count": null,
   "id": "0b9f252a",
   "metadata": {},
   "outputs": [],
   "source": []
  }
 ],
 "metadata": {
  "kernelspec": {
   "display_name": "Python 3 (ipykernel)",
   "language": "python",
   "name": "python3"
  },
  "language_info": {
   "codemirror_mode": {
    "name": "ipython",
    "version": 3
   },
   "file_extension": ".py",
   "mimetype": "text/x-python",
   "name": "python",
   "nbconvert_exporter": "python",
   "pygments_lexer": "ipython3",
   "version": "3.9.13"
  }
 },
 "nbformat": 4,
 "nbformat_minor": 5
}
